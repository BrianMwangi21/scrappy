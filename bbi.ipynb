{
 "cells": [
  {
   "cell_type": "code",
   "execution_count": 1,
   "metadata": {},
   "outputs": [],
   "source": [
    "import GetOldTweets3 as got\n",
    "import pandas as pd\n",
    "from textblob import TextBlob\n",
    "import re"
   ]
  },
  {
   "cell_type": "code",
   "execution_count": 2,
   "metadata": {},
   "outputs": [],
   "source": [
    "def clean_tweet(tweet):\n",
    "    return ' '.join(re.sub(\"(@[A-Za-z0-9]+)|([^0-9A-Za-z \\t])| (\\w+:\\ / \\ / \\S+)\", \" \", tweet).split())"
   ]
  },
  {
   "cell_type": "code",
   "execution_count": 3,
   "metadata": {},
   "outputs": [],
   "source": [
    "def get_tweet_sentiment(tweet):\n",
    "    analysis = TextBlob(clean_tweet(tweet))\n",
    "    # set sentiment\n",
    "    if analysis.sentiment.polarity > 0:\n",
    "        return 'positive'\n",
    "    elif analysis.sentiment.polarity == 0:\n",
    "        return 'neutral'\n",
    "    else:\n",
    "        return 'negative'"
   ]
  },
  {
   "cell_type": "code",
   "execution_count": 4,
   "metadata": {},
   "outputs": [],
   "source": [
    "# Creating list of chosen tweet data, positive tweets, negative tweets and neutral tweets\n",
    "tweets = []\n",
    "po_tweets = []\n",
    "ng_tweets = []\n",
    "ne_tweets = []"
   ]
  },
  {
   "cell_type": "code",
   "execution_count": 5,
   "metadata": {},
   "outputs": [],
   "source": [
    "def text_query(text_to_query, count, since_date, until_date, location):\n",
    "    # Creation of query object\n",
    "    tweet_criteria = got.manager.TweetCriteria().setQuerySearch(text_to_query).\\\n",
    "                                                 setMaxTweets(count).\\\n",
    "                                                 setSince(since_date).\\\n",
    "                                                 setUntil(until_date).\\\n",
    "                                                 setNear(location).\\\n",
    "                                                 setEmoji(\"unicode\")\n",
    "\n",
    "    # Creation of list that contains all tweets from query\n",
    "    tweets_data = got.manager.TweetManager.getTweets(tweet_criteria)\n",
    "\n",
    "    # Format data before saving\n",
    "    for tweet in tweets_data:\n",
    "        date = tweet.date.strftime('%Y-%m-%d')\n",
    "        time = tweet.date.strftime('%H:%M')\n",
    "\n",
    "        # Get analysis of tweet\n",
    "        analysis_result = get_tweet_sentiment(tweet.text)\n",
    "\n",
    "        tweets.append([tweet.id,\n",
    "                       tweet.permalink,\n",
    "                       tweet.username,\n",
    "                       tweet.text,\n",
    "                       analysis_result,\n",
    "                       date, time])\n",
    "        \n",
    "        # Append to right array based on analysis\n",
    "        if analysis_result == \"positive\":\n",
    "            po_tweets.append([tweet.id,\n",
    "                       tweet.permalink,\n",
    "                       tweet.username,\n",
    "                       tweet.text,\n",
    "                       analysis_result,\n",
    "                       date, time])\n",
    "        elif analysis_result == \"negative\":\n",
    "            ng_tweets.append([tweet.id,\n",
    "                       tweet.permalink,\n",
    "                       tweet.username,\n",
    "                       tweet.text,\n",
    "                       analysis_result,\n",
    "                       date, time])\n",
    "        elif analysis_result == \"neutral\":\n",
    "            ne_tweets.append([tweet.id,\n",
    "                       tweet.permalink,\n",
    "                       tweet.username,\n",
    "                       tweet.text,\n",
    "                       analysis_result,\n",
    "                       date, time])\n",
    "\n",
    "    # Creation of dataframe from tweets\n",
    "    tweets_df = pd.DataFrame(tweets, columns=['ID', 'Permalink', 'Username', 'Tweet', 'Sentiment Analysis', 'Date', 'Time'])\n",
    "\n",
    "    # Converting tweets dataframe to csv file\n",
    "    tweets_df.to_csv('{}-tweets.csv'.format(text_to_query), sep=',')"
   ]
  },
  {
   "cell_type": "code",
   "execution_count": 6,
   "metadata": {},
   "outputs": [],
   "source": [
    "# Selected query is BBI\n",
    "# Selected time interval is from June 1 2019 to February 29 2019\n",
    "text_query(\"bbi\", 2100, \"2019-06-01\", \"2020-02-29\", \"Nairobi, Kenya\")"
   ]
  },
  {
   "cell_type": "code",
   "execution_count": 7,
   "metadata": {},
   "outputs": [
    {
     "name": "stdout",
     "output_type": "stream",
     "text": [
      "Positive tweets percentage: 31.095238095238095 %\n",
      "Negative tweets percentage: 22.761904761904763 %\n",
      "Neutral tweets percentage : 46.142857142857146 %\n"
     ]
    }
   ],
   "source": [
    "# percentage of positive tweets \n",
    "print(\"Positive tweets percentage: {} %\".format(100*len(po_tweets)/len(tweets)))\n",
    "# percentage of negative tweets \n",
    "print(\"Negative tweets percentage: {} %\".format(100*len(ng_tweets)/len(tweets))) \n",
    "# percentage of neutral tweets \n",
    "print(\"Neutral tweets percentage : {} %\".format(100*len(ne_tweets)/len(tweets))) "
   ]
  },
  {
   "cell_type": "code",
   "execution_count": 12,
   "metadata": {},
   "outputs": [
    {
     "name": "stdout",
     "output_type": "stream",
     "text": [
      "Is the whole mount kenya Kiambu? You will attend Meru Bbi so you can go looking and see if the whole route has concrete or there is farming happening\n",
      "I don't support BBI nor Baba but I have seen insult in his statement..... But again, this government and it's allies should go home we elect new people who will bring cost of living down, create job opportunity, reduce National debts, deliver on stadia and support football\n",
      "Hello Mheshimiwa, I respect minority voices in every corner of democracy and especially on this BBI wave that seems to sweep you away and dump many of your character in a political grave forever, Tell us your views the areas you feel note addressed by this wonderful document.\n",
      "Why are you supporting BBI then. BBI eventually is to eliminate the Kalenjin community and create luo nation and Kikuyu nation as supreme. Ujinga!!\n",
      "First read and understand the ndungu report and Constitution of Kenya 2010, then compare notes with the BBI nonsensical reggae music and comment for or against! #uhurumustgo 🉐 Thanks\n"
     ]
    }
   ],
   "source": [
    "# First 5 positive tweets\n",
    "for p in po_tweets[0:5]:\n",
    "    print(p[3])"
   ]
  },
  {
   "cell_type": "code",
   "execution_count": 13,
   "metadata": {},
   "outputs": [
    {
     "name": "stdout",
     "output_type": "stream",
     "text": [
      "Whether Tinga, Hustler, BBI, tangatanga or Kiweleweke...we are heading towards dangerous political territory. Kenyans will suffer if this keeps up \n",
      "BBI rallies exclusive, used to spread hate, says Martha Karua - https://kenyantribune.com/bbi-rallies-exclusive-used-to-spread-hate-says-martha-karua/\n",
      "@DidmusWaBarasa don’t be this useless. I’m Elisa pa kukulia ama Ruto hatoi handouts lately. BBI stopped your fake reggaes. \n",
      "BBI rallies and all other gatherings should be suspended until coronavirus has been suppressed in Kenya.\n",
      "Heading to Meru. For BBI we can even break the school bus rule and allow the buses to hit the road in the dead of night. \n"
     ]
    }
   ],
   "source": [
    "# First 5 negative tweets\n",
    "for p in ng_tweets[0:5]:\n",
    "    print(p[3])"
   ]
  },
  {
   "cell_type": "code",
   "execution_count": 17,
   "metadata": {},
   "outputs": [
    {
     "name": "stdout",
     "output_type": "stream",
     "text": [
      "I pray and hope that my Meru people don't fall for this Bbi nonsense\n",
      "That's called pacification! Next will be in Embu then Mùrang'a. By mid this year there will have nobody opposing the BBI. Uhuru cannot afford to sacrifice over 12 million population which is a 1/4 of the entire Kenya population\n",
      "#ManEatManSociety #Kenya #BBI #KoT #HandShake vs #HandQuake #Coronavirus kenyans_on_twitter_ kenyansontwitter @mrefumref @blakanvart https://www.instagram.com/p/B9IIRuWnO6eSqz9VKeLo1Hs6rsq_JGrdHJvIIU0/?igshid=pljkvqve4pzh\n",
      "As Kenyan student were came from china back to the home country most people are in kenya are worried about virus . Hon Uhuru kenya were wondering about our country step 1 BBI Made citizens worried and scandal fake armies if Ruto lastly 239 student china what country z this.\n",
      "The stress...I have to wake up, rush to Wilson and board a chopper to Meru for BBI\n"
     ]
    }
   ],
   "source": [
    "# First 5 neutral tweets\n",
    "for p in ne_tweets[0:5]:\n",
    "    print(p[3])"
   ]
  },
  {
   "cell_type": "code",
   "execution_count": null,
   "metadata": {},
   "outputs": [],
   "source": []
  }
 ],
 "metadata": {
  "kernelspec": {
   "display_name": "Python 3",
   "language": "python",
   "name": "python3"
  },
  "language_info": {
   "codemirror_mode": {
    "name": "ipython",
    "version": 3
   },
   "file_extension": ".py",
   "mimetype": "text/x-python",
   "name": "python",
   "nbconvert_exporter": "python",
   "pygments_lexer": "ipython3",
   "version": "3.7.4"
  }
 },
 "nbformat": 4,
 "nbformat_minor": 4
}
